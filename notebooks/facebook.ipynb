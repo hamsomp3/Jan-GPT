{
 "cells": [
  {
   "cell_type": "code",
   "execution_count": 1,
   "metadata": {},
   "outputs": [],
   "source": [
    "import pandas as pd\n",
    "import pathlib as pl\n",
    "import json"
   ]
  },
  {
   "cell_type": "code",
   "execution_count": 2,
   "metadata": {},
   "outputs": [
    {
     "name": "stdout",
     "output_type": "stream",
     "text": [
      "d:\\Repositorios\\JAN-GPT\\Jan-GPT\\data\\facebook\\instagram-jan.polanco.velasco\\your_instagram_activity\\comments\\post_comments_1.json\n"
     ]
    }
   ],
   "source": [
    "current_path        = pl.Path.cwd().parent.joinpath('data', 'facebook', 'instagram-jan.polanco.velasco', 'your_instagram_activity', 'comments')\n",
    "posts_comments_path = current_path.joinpath('post_comments_1.json')\n",
    "reels_comments_path = current_path.joinpath('reels_comments.json')\n",
    "print(posts_comments_path)"
   ]
  },
  {
   "cell_type": "code",
   "execution_count": 3,
   "metadata": {},
   "outputs": [
    {
     "name": "stderr",
     "output_type": "stream",
     "text": [
      "C:\\Users\\hamso\\AppData\\Local\\Temp\\ipykernel_24288\\3535540450.py:4: FutureWarning: Passing literal json to 'read_json' is deprecated and will be removed in a future version. To read from a literal string, wrap it in a 'StringIO' object.\n",
      "  df = pd.read_json(data, encoding='utf-8')\n"
     ]
    },
    {
     "data": {
      "text/html": [
       "<div>\n",
       "<style scoped>\n",
       "    .dataframe tbody tr th:only-of-type {\n",
       "        vertical-align: middle;\n",
       "    }\n",
       "\n",
       "    .dataframe tbody tr th {\n",
       "        vertical-align: top;\n",
       "    }\n",
       "\n",
       "    .dataframe thead th {\n",
       "        text-align: right;\n",
       "    }\n",
       "</style>\n",
       "<table border=\"1\" class=\"dataframe\">\n",
       "  <thead>\n",
       "    <tr style=\"text-align: right;\">\n",
       "      <th></th>\n",
       "      <th>string_map_data</th>\n",
       "    </tr>\n",
       "  </thead>\n",
       "  <tbody>\n",
       "    <tr>\n",
       "      <th>0</th>\n",
       "      <td>{'Comment': {'value': 'Un hombre que nunca ten...</td>\n",
       "    </tr>\n",
       "    <tr>\n",
       "      <th>1</th>\n",
       "      <td>{'Comment': {'value': 'Hermoso mi Apolo ya es ...</td>\n",
       "    </tr>\n",
       "    <tr>\n",
       "      <th>2</th>\n",
       "      <td>{'Comment': {'value': '@michaelguerrero_y jaja...</td>\n",
       "    </tr>\n",
       "    <tr>\n",
       "      <th>3</th>\n",
       "      <td>{'Comment': {'value': '@felipe.cifuentss tupla...</td>\n",
       "    </tr>\n",
       "    <tr>\n",
       "      <th>4</th>\n",
       "      <td>{'Comment': {'value': '@afbr328 entonces como ...</td>\n",
       "    </tr>\n",
       "  </tbody>\n",
       "</table>\n",
       "</div>"
      ],
      "text/plain": [
       "                                     string_map_data\n",
       "0  {'Comment': {'value': 'Un hombre que nunca ten...\n",
       "1  {'Comment': {'value': 'Hermoso mi Apolo ya es ...\n",
       "2  {'Comment': {'value': '@michaelguerrero_y jaja...\n",
       "3  {'Comment': {'value': '@felipe.cifuentss tupla...\n",
       "4  {'Comment': {'value': '@afbr328 entonces como ..."
      ]
     },
     "execution_count": 3,
     "metadata": {},
     "output_type": "execute_result"
    }
   ],
   "source": [
    "with open(posts_comments_path, 'r', encoding='utf-8') as file:\n",
    "    data = file.read()\n",
    "\n",
    "df = pd.read_json(data, encoding='utf-8')\n",
    "\n",
    "df.drop(columns=['media_list_data'], inplace=True)\n",
    "df.head()"
   ]
  },
  {
   "cell_type": "code",
   "execution_count": 4,
   "metadata": {},
   "outputs": [],
   "source": [
    "# Función para obtener el valor de 'Comment'\n",
    "def get_comment(row):\n",
    "    return row['Comment']['value']\n",
    "\n",
    "def get_media_owner(row):\n",
    "    return row['Media Owner']['value'] if 'Media Owner' in row else None"
   ]
  },
  {
   "cell_type": "code",
   "execution_count": 5,
   "metadata": {},
   "outputs": [],
   "source": [
    "# Aplicar las funciones a cada fila y crear nuevas columnas\n",
    "df['Comment_value'] = df['string_map_data'].apply(get_comment)\n",
    "df['Media_Owner_value'] = df['string_map_data'].apply(get_media_owner)\n",
    "df.drop(columns=['string_map_data'], inplace=True)\n"
   ]
  },
  {
   "cell_type": "code",
   "execution_count": 6,
   "metadata": {},
   "outputs": [
    {
     "name": "stdout",
     "output_type": "stream",
     "text": [
      "Media_Owner_value\n",
      "jan.polanco.velasco    34\n",
      "mauropolanco72          9\n",
      "nikopkimmel             8\n",
      "roggercardona           8\n",
      "angyalbueno             6\n",
      "                       ..\n",
      "daqo98                  1\n",
      "marbikerdelbosque       1\n",
      "lukas.songs             1\n",
      "el_mindo                1\n",
      "walkdread               1\n",
      "Name: count, Length: 96, dtype: int64\n"
     ]
    }
   ],
   "source": [
    "# I want the frecuency of Media Owner\n",
    "pedro=df['Media_Owner_value'].value_counts()\n",
    "print(pedro)"
   ]
  },
  {
   "cell_type": "code",
   "execution_count": 7,
   "metadata": {},
   "outputs": [],
   "source": [
    "# I want to delete the users in the column 'Comment_value' the user starts with '@' use regex to delete them. Sometimes ther user is @username.lastname i want to delete the whole word\n",
    "df['Comment_value'] = df['Comment_value'].str.replace(r'@[\\w]*', '', regex=True)"
   ]
  },
  {
   "cell_type": "code",
   "execution_count": 8,
   "metadata": {},
   "outputs": [],
   "source": [
    "# if there is a row with the value 'Ã¡' replace it with 'á' and so on\n",
    "df['Comment_value'] = df['Comment_value'].str.replace('Ã¡', 'á', regex=False)\n",
    "df['Comment_value'] = df['Comment_value'].str.replace('Ã©', 'é', regex=False)\n",
    "df['Comment_value'] = df['Comment_value'].str.replace('Ã­', 'í', regex=False)\n",
    "df['Comment_value'] = df['Comment_value'].str.replace('Ã³', 'ó', regex=False)\n",
    "df['Comment_value'] = df['Comment_value'].str.replace('Ãº', 'ú', regex=False)\n",
    "df['Comment_value'] = df['Comment_value'].str.replace('Ã±', 'ñ', regex=False)"
   ]
  },
  {
   "cell_type": "code",
   "execution_count": 9,
   "metadata": {},
   "outputs": [
    {
     "data": {
      "text/html": [
       "<div>\n",
       "<style scoped>\n",
       "    .dataframe tbody tr th:only-of-type {\n",
       "        vertical-align: middle;\n",
       "    }\n",
       "\n",
       "    .dataframe tbody tr th {\n",
       "        vertical-align: top;\n",
       "    }\n",
       "\n",
       "    .dataframe thead th {\n",
       "        text-align: right;\n",
       "    }\n",
       "</style>\n",
       "<table border=\"1\" class=\"dataframe\">\n",
       "  <thead>\n",
       "    <tr style=\"text-align: right;\">\n",
       "      <th></th>\n",
       "      <th>Comment_value</th>\n",
       "      <th>Media_Owner_value</th>\n",
       "    </tr>\n",
       "  </thead>\n",
       "  <tbody>\n",
       "    <tr>\n",
       "      <th>0</th>\n",
       "      <td>Un hombre que nunca tendrá que comprar gengibre!</td>\n",
       "      <td>malik_aftab_007</td>\n",
       "    </tr>\n",
       "    <tr>\n",
       "      <th>1</th>\n",
       "      <td>Hermoso mi Apolo ya es famoso!</td>\n",
       "      <td>comiendocontriana</td>\n",
       "    </tr>\n",
       "    <tr>\n",
       "      <th>2</th>\n",
       "      <td>jajajajajaj</td>\n",
       "      <td>michaelguerrero_y</td>\n",
       "    </tr>\n",
       "    <tr>\n",
       "      <th>3</th>\n",
       "      <td>.cifuentss tuplas!</td>\n",
       "      <td>michaelguerrero_y</td>\n",
       "    </tr>\n",
       "    <tr>\n",
       "      <th>4</th>\n",
       "      <td>entonces como se dice?</td>\n",
       "      <td>enteratecali</td>\n",
       "    </tr>\n",
       "    <tr>\n",
       "      <th>...</th>\n",
       "      <td>...</td>\n",
       "      <td>...</td>\n",
       "    </tr>\n",
       "    <tr>\n",
       "      <th>195</th>\n",
       "      <td>Pobrecita la luminaria</td>\n",
       "      <td>mauropolanco72</td>\n",
       "    </tr>\n",
       "    <tr>\n",
       "      <th>196</th>\n",
       "      <td>Acá en Colombia le hacemos estatuas al pibe</td>\n",
       "      <td>marciojohao16</td>\n",
       "    </tr>\n",
       "    <tr>\n",
       "      <th>197</th>\n",
       "      <td>Papi y el combo café con fríjoles!!! Es Melo, ...</td>\n",
       "      <td>castroi67</td>\n",
       "    </tr>\n",
       "    <tr>\n",
       "      <th>198</th>\n",
       "      <td>Como te vas a tomar una foto mientras con la o...</td>\n",
       "      <td>None</td>\n",
       "    </tr>\n",
       "    <tr>\n",
       "      <th>199</th>\n",
       "      <td>Awwwww tan tiernitup</td>\n",
       "      <td>danielsl_17</td>\n",
       "    </tr>\n",
       "  </tbody>\n",
       "</table>\n",
       "<p>200 rows × 2 columns</p>\n",
       "</div>"
      ],
      "text/plain": [
       "                                         Comment_value  Media_Owner_value\n",
       "0     Un hombre que nunca tendrá que comprar gengibre!    malik_aftab_007\n",
       "1                       Hermoso mi Apolo ya es famoso!  comiendocontriana\n",
       "2                                          jajajajajaj  michaelguerrero_y\n",
       "3                                   .cifuentss tuplas!  michaelguerrero_y\n",
       "4                               entonces como se dice?       enteratecali\n",
       "..                                                 ...                ...\n",
       "195                             Pobrecita la luminaria     mauropolanco72\n",
       "196        Acá en Colombia le hacemos estatuas al pibe      marciojohao16\n",
       "197  Papi y el combo café con fríjoles!!! Es Melo, ...          castroi67\n",
       "198  Como te vas a tomar una foto mientras con la o...               None\n",
       "199                               Awwwww tan tiernitup        danielsl_17\n",
       "\n",
       "[200 rows x 2 columns]"
      ]
     },
     "execution_count": 9,
     "metadata": {},
     "output_type": "execute_result"
    }
   ],
   "source": [
    "df.head(200)"
   ]
  },
  {
   "cell_type": "code",
   "execution_count": 10,
   "metadata": {},
   "outputs": [
    {
     "name": "stdout",
     "output_type": "stream",
     "text": [
      "El dataframe tiene 247 preguntas\n"
     ]
    }
   ],
   "source": [
    "print(f'El dataframe tiene {df.shape[0]} preguntas')"
   ]
  },
  {
   "cell_type": "code",
   "execution_count": 11,
   "metadata": {},
   "outputs": [],
   "source": [
    "df.to_csv(current_path.joinpath('diccionario1.csv'), index=False, encoding='utf-8-sig')"
   ]
  }
 ],
 "metadata": {
  "kernelspec": {
   "display_name": ".venv",
   "language": "python",
   "name": "python3"
  },
  "language_info": {
   "codemirror_mode": {
    "name": "ipython",
    "version": 3
   },
   "file_extension": ".py",
   "mimetype": "text/x-python",
   "name": "python",
   "nbconvert_exporter": "python",
   "pygments_lexer": "ipython3",
   "version": "3.11.4"
  }
 },
 "nbformat": 4,
 "nbformat_minor": 2
}
