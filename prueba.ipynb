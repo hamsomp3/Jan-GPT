{
 "cells": [
  {
   "cell_type": "code",
   "execution_count": 1,
   "metadata": {},
   "outputs": [],
   "source": [
    "import pandas as pd\n",
    "import wikipedia\n",
    "\n",
    "\n",
    "\n",
    "def get_wikipedia_summary(name):\n",
    "    try:\n",
    "        summary = wikipedia.summary(name + ' company')\n",
    "    except Exception:\n",
    "        summary = None\n",
    "    finally:\n",
    "        return summary\n",
    "\n",
    "url = 'https://en.wikipedia.org/wiki/List_of_S%26P_500_companies'\n",
    "\n",
    "df = pd.read_html(url, attrs = {\"id\": \"constituents\"}, flavor='lxml')[0]\n",
    "df['company_summary'] = df['Security'].apply(lambda x: get_wikipedia_summary(x))\n",
    "\n",
    "df.head()"
   ]
  }
 ],
 "metadata": {
  "kernelspec": {
   "display_name": ".venv",
   "language": "python",
   "name": "python3"
  },
  "language_info": {
   "codemirror_mode": {
    "name": "ipython",
    "version": 3
   },
   "file_extension": ".py",
   "mimetype": "text/x-python",
   "name": "python",
   "nbconvert_exporter": "python",
   "pygments_lexer": "ipython3",
   "version": "3.11.4"
  }
 },
 "nbformat": 4,
 "nbformat_minor": 2
}
